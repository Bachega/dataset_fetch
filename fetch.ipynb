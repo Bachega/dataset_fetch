{
 "cells": [
  {
   "cell_type": "markdown",
   "metadata": {},
   "source": [
    "# Get Datasets"
   ]
  },
  {
   "cell_type": "code",
   "execution_count": 1,
   "metadata": {},
   "outputs": [],
   "source": [
    "import pandas as pd\n",
    "import numpy as np\n",
    "from ucimlrepo import fetch_ucirepo\n",
    "from openml import datasets\n",
    "import os\n",
    "\n",
    "if os.path.exists('dataset_processing_log.csv'):\n",
    "    preprocessing_log = pd.read_csv('dataset_processing_log.csv')\n",
    "else:\n",
    "    preprocessing_log = pd.DataFrame(columns=['did', 'Dataset Name', 'Class Column' , 'No. of Rows', 'No. of Columns', 'No. of Extracted Meta-Features', 'One-Hot Encoded?', 'Label Encoded?'])\n",
    "\n",
    "openml_datasets_index = pd.read_csv('openml_datasets_index.csv')\n",
    "uci_datasets_index = pd.read_csv('uci_datasets_index.csv')\n",
    "\n",
    "openml_index = openml_datasets_index\n",
    "uci_index = uci_datasets_index"
   ]
  },
  {
   "cell_type": "code",
   "execution_count": null,
   "metadata": {},
   "outputs": [],
   "source": [
    "from math import ceil\n",
    "openml_index = openml_datasets_index\n",
    "uci_index = uci_datasets_index\n",
    "\n",
    "\n",
    "openml_index = openml_index[openml_index['NumberOfClasses'] == 2]\n",
    "openml_index = openml_index[openml_index['NumberOfMissingValues'] == 0]\n",
    "openml_index = openml_index[openml_index['NumberOfInstancesWithMissingValues'] == 0]\n",
    "\n",
    "passing_dids = []\n",
    "for _row in openml_index.iterrows():\n",
    "    row = _row[1]\n",
    "    \n",
    "    dataset_size = row['NumberOfInstances']\n",
    "    pos_prop = row['MajorityClassSize'] / dataset_size\n",
    "    neg_prop = row['MinorityClassSize'] / dataset_size\n",
    "\n",
    "    sample_size = 100\n",
    "    test_size = 0.5\n",
    "\n",
    "    pos_number_sample_test = ceil(pos_prop * dataset_size * test_size)\n",
    "    neg_number_sample_test = ceil(neg_prop * dataset_size * test_size)\n",
    "\n",
    "    if pos_number_sample_test > sample_size and neg_number_sample_test > sample_size:\n",
    "        passing_dids.append(row['did'])\n",
    "\n",
    "openml_index = openml_index[openml_index['did'].isin(passing_dids)]\n",
    "\n",
    "openml_index"
   ]
  },
  {
   "cell_type": "markdown",
   "metadata": {},
   "source": [
    "# Run"
   ]
  },
  {
   "cell_type": "code",
   "execution_count": null,
   "metadata": {},
   "outputs": [],
   "source": [
    "from run_tests import run_tests\n",
    "\n",
    "did_list = openml_index['did'].tolist()\n",
    "\n",
    "if not os.path.exists('current_did.txt'):\n",
    "    with open('current_did.txt', 'w') as f:\n",
    "        f.write(str(did_list[0]))\n",
    "\n",
    "with open('current_did.txt', 'r') as f:\n",
    "    current_did = int(f.read().strip())\n",
    "\n",
    "i = did_list.index(current_did)\n",
    "for i in range(len(did_list)):\n",
    "    print(f\"ITER. {i}\")\n",
    "\n",
    "    try:\n",
    "        did = did_list[i]\n",
    "        dataset = datasets.get_dataset(int(did))\n",
    "    except:\n",
    "        continue\n",
    "\n",
    "    dataset_name = dataset.name\n",
    "    X, y, categorical_indicator, attribute_names = dataset.get_data(\n",
    "        dataset_format=\"dataframe\", target=dataset.default_target_attribute\n",
    "    )\n",
    "    X_processed, y_processed, dataset_shape, num_meta_features_extracted, one_hot_encoded, label_encoded = run_tests(X, y, categorical_indicator)\n",
    "    data_processed = np.column_stack((X_processed, y_processed))\n",
    "    \n",
    "    processed_df = pd.DataFrame(columns=[_i for _i in range(1, data_processed.shape[1] + 1)], data=data_processed)\n",
    "\n",
    "    preprocessing_log.loc[len(preprocessing_log.index)] = [did, dataset_name, y.name, dataset_shape[0], dataset_shape[1], num_meta_features_extracted, one_hot_encoded, label_encoded]\n",
    "    processed_df.to_csv(f\"./treated_datasets/{dataset_name}.csv\", index=False)\n",
    "    preprocessing_log.to_csv(\"dataset_processing_log.csv\", index=False)\n",
    "\n",
    "    with open('current_did.txt', 'w') as f:\n",
    "        f.write(str(did))\n",
    "\n",
    "preprocessing_log"
   ]
  }
 ],
 "metadata": {
  "kernelspec": {
   "display_name": "Python 3",
   "language": "python",
   "name": "python3"
  },
  "language_info": {
   "codemirror_mode": {
    "name": "ipython",
    "version": 3
   },
   "file_extension": ".py",
   "mimetype": "text/x-python",
   "name": "python",
   "nbconvert_exporter": "python",
   "pygments_lexer": "ipython3",
   "version": "3.12.4"
  }
 },
 "nbformat": 4,
 "nbformat_minor": 2
}
