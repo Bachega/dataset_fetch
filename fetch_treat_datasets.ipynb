{
 "cells": [
  {
   "cell_type": "markdown",
   "metadata": {},
   "source": [
    "# Get Datasets"
   ]
  },
  {
   "cell_type": "code",
   "execution_count": 7,
   "metadata": {},
   "outputs": [],
   "source": [
    "import pandas as pd\n",
    "import numpy as np\n",
    "from ucimlrepo import fetch_ucirepo\n",
    "from openml import datasets\n",
    "import os\n",
    "\n",
    "if os.path.exists('dataset_processing_log.csv'):\n",
    "    preprocessing_log = pd.read_csv('dataset_processing_log.csv')\n",
    "else:\n",
    "    preprocessing_log = pd.DataFrame(columns=['did', 'Dataset Name', 'Class Column' , 'No. of Rows', 'No. of Columns', 'No. of Extracted Meta-Features', 'One-Hot Encoded?', 'Label Encoded?'])\n",
    "\n",
    "openml_datasets_index = pd.read_csv('openml_datasets_index.csv')\n",
    "uci_datasets_index = pd.read_csv('uci_datasets_index.csv')\n",
    "\n",
    "openml_index = openml_datasets_index\n",
    "uci_index = uci_datasets_index"
   ]
  },
  {
   "cell_type": "markdown",
   "metadata": {},
   "source": [
    "# create openml index (with filtering)"
   ]
  },
  {
   "cell_type": "code",
   "execution_count": 8,
   "metadata": {},
   "outputs": [],
   "source": [
    "from math import ceil\n",
    "openml_index = openml_datasets_index\n",
    "uci_index = uci_datasets_index\n",
    "\n",
    "\n",
    "openml_index = openml_index[openml_index['NumberOfClasses'] == 2]\n",
    "openml_index = openml_index[openml_index['NumberOfMissingValues'] == 0]\n",
    "openml_index = openml_index[openml_index['NumberOfInstancesWithMissingValues'] == 0]\n",
    "\n",
    "passing_dids = []\n",
    "for _row in openml_index.iterrows():\n",
    "    row = _row[1]\n",
    "    \n",
    "    dataset_size = row['NumberOfInstances']\n",
    "    pos_prop = row['MajorityClassSize'] / dataset_size\n",
    "    neg_prop = row['MinorityClassSize'] / dataset_size\n",
    "\n",
    "    sample_size = 100\n",
    "    test_size = 0.5\n",
    "\n",
    "    pos_number_sample_test = ceil(pos_prop * dataset_size * test_size)\n",
    "    neg_number_sample_test = ceil(neg_prop * dataset_size * test_size)\n",
    "\n",
    "    if pos_number_sample_test > sample_size and neg_number_sample_test > sample_size:\n",
    "        passing_dids.append(row['did'])\n",
    "\n",
    "openml_index = openml_index[openml_index['did'].isin(passing_dids)]"
   ]
  },
  {
   "cell_type": "code",
   "execution_count": null,
   "metadata": {},
   "outputs": [],
   "source": [
    "openml_index.head(30)"
   ]
  },
  {
   "cell_type": "markdown",
   "metadata": {},
   "source": [
    "# fetch_datasets"
   ]
  },
  {
   "cell_type": "code",
   "execution_count": null,
   "metadata": {},
   "outputs": [],
   "source": [
    "import openml\n",
    "import requests\n",
    "import pickle\n",
    "from requests.adapters import HTTPAdapter\n",
    "from urllib3.util.retry import Retry\n",
    "\n",
    "def fetch_datasets(openml_index: pd.DataFrame):\n",
    "    # Patch requests so it doesn't wait or retry\n",
    "    retry_strategy = Retry(\n",
    "        total=1,            # Only one retry\n",
    "        backoff_factor=0.1, # Delay between retries\n",
    "        status_forcelist=[429, 500, 502, 503, 504],  # Retry for specific status codes\n",
    "    )\n",
    "    adapter = HTTPAdapter(max_retries=retry_strategy)\n",
    "    session = requests.Session()\n",
    "    session.mount(\"http://\", adapter)\n",
    "    session.mount(\"https://\", adapter)\n",
    "    openml.config.requests_session = session\n",
    "\n",
    "    if os.path.exists(\"./untreated_datasets/openml_did_index.csv\"):\n",
    "        openml_did_index = pd.read_csv('./untreated_datasets/openml_did_index.csv')\n",
    "    else:\n",
    "        openml_did_index = pd.DataFrame(columns=['did', 'file'])\n",
    "        \n",
    "    did_list = list(set(openml_index['did'].tolist()) - set(openml_did_index['did'].tolist()))\n",
    "    did_list.sort()\n",
    "\n",
    "    # i = -1\n",
    "    for did in did_list:\n",
    "        # i += 1\n",
    "        # if i == 20:\n",
    "        #     break\n",
    "        try:\n",
    "            dataset = openml.datasets.get_dataset(int(did), download_data=True)\n",
    "            dataset_name = dataset.name\n",
    "            X, y, categorical_indicator, attribute_names = dataset.get_data(\n",
    "                dataset_format=\"dataframe\", target=dataset.default_target_attribute\n",
    "            )\n",
    "\n",
    "            with open(f\"./untreated_datasets/{dataset_name}.pkl\", 'wb') as f:\n",
    "                pickle.dump({\n",
    "                    'dataset_name': dataset_name,\n",
    "                    'X': X,\n",
    "                    'y': y,\n",
    "                    'categorical_indicator': categorical_indicator,\n",
    "                    'attribute_names': attribute_names\n",
    "                }, f)\n",
    "            \n",
    "            openml_did_index.loc[len(openml_did_index)] = [did, f'{dataset_name}.pkl']\n",
    "            openml_did_index.to_csv('./untreated_datasets/openml_did_index.csv', index=False)\n",
    "        except:\n",
    "            continue\n",
    "\n",
    "fetch_datasets(openml_index=openml_index)"
   ]
  },
  {
   "cell_type": "code",
   "execution_count": null,
   "metadata": {},
   "outputs": [],
   "source": [
    "import pickle\n",
    "\n",
    "file = \"BNG(breast-cancer,nominal,1000000).pkl\"\n",
    "with open(f\"./untreated_datasets/{file}\", 'rb') as f:\n",
    "    data = pickle.load(f)\n",
    "    dataset_name = data['dataset_name']\n",
    "    X = data['X']\n",
    "    y = data['y']\n",
    "    categorical_indicator = data['categorical_indicator']\n",
    "    attribute_names = data['attribute_names']"
   ]
  },
  {
   "cell_type": "code",
   "execution_count": null,
   "metadata": {},
   "outputs": [],
   "source": [
    "y"
   ]
  },
  {
   "cell_type": "markdown",
   "metadata": {},
   "source": [
    "# treat_datasets"
   ]
  },
  {
   "cell_type": "code",
   "execution_count": null,
   "metadata": {},
   "outputs": [],
   "source": [
    "from utils import run_tests, run_with_timeout \n",
    "\n",
    "did_list = openml_index['did'].tolist()\n",
    "datasets_pickles = [f for f in os.listdir('./untreated_datasets') if f.endswith('.pkl')]\n",
    "\n",
    "if not os.path.exists('current_did.txt'):\n",
    "    with open('current_did.txt', 'w') as f:\n",
    "        f.write(str(did_list[0]))\n",
    "\n",
    "with open('current_did.txt', 'r') as f:\n",
    "    current_did = int(f.read().strip())\n",
    "\n",
    "openml_did_index = pd.read_csv('./untreated_datasets/openml_did_index.csv')\n",
    "_start = did_list.index(current_did)\n",
    "for i in range(_start, len(did_list)):\n",
    "    # if i == 5: break\n",
    "    print(f\"ITER. {i} - DID. {did_list[i]}\")\n",
    "\n",
    "    try:\n",
    "        did = did_list[i]\n",
    "        with open('current_did.txt', 'w') as f:\n",
    "            f.write(str(did))\n",
    "\n",
    "        row = openml_did_index[openml_did_index['did'] == did]\n",
    "        file = row['file'].tolist()[0]\n",
    "        # import pdb;pdb.set_trace()\n",
    "        with open(f\"./untreated_datasets/{file}\", 'rb') as f:\n",
    "            data = pickle.load(f)\n",
    "            dataset_name = data['dataset_name']\n",
    "            X = data['X']\n",
    "            y = data['y']\n",
    "            categorical_indicator = data['categorical_indicator']\n",
    "            attribute_names = data['attribute_names']\n",
    "        # import pdb;pdb.set_trace()\n",
    "        # dataset = datasets.get_dataset(int(did))\n",
    "    except:\n",
    "        continue\n",
    "\n",
    "    # dataset_name = dataset.name\n",
    "    # X, y, categorical_indicator, attribute_names = dataset.get_data(\n",
    "    #     dataset_format=\"dataframe\", target=dataset.default_target_attribute\n",
    "    # )\n",
    "\n",
    "    result = run_with_timeout(600, run_tests, X, y, categorical_indicator)\n",
    "    if result is None:\n",
    "        continue\n",
    "    \n",
    "    X_processed, y_processed, dataset_shape, num_meta_features_extracted, one_hot_encoded, label_encoded = result\n",
    "    data_processed = np.column_stack((X_processed, y_processed))\n",
    "    \n",
    "    # X_processed, y_processed, dataset_shape, num_meta_features_extracted, one_hot_encoded, label_encoded = run_tests(X, y, categorical_indicator)\n",
    "    \n",
    "    processed_df = pd.DataFrame(columns=[_i for _i in range(1, data_processed.shape[1] + 1)], data=data_processed)\n",
    "\n",
    "    preprocessing_log.loc[len(preprocessing_log.index)] = [did, dataset_name, y.name, dataset_shape[0], dataset_shape[1] + 1, num_meta_features_extracted, one_hot_encoded, label_encoded]\n",
    "    processed_df.to_csv(f\"./treated_datasets/{dataset_name}.csv\", index=False)\n",
    "    preprocessing_log.to_csv(\"dataset_processing_log.csv\", index=False)\n",
    "\n",
    "preprocessing_log"
   ]
  }
 ],
 "metadata": {
  "kernelspec": {
   "display_name": "venv",
   "language": "python",
   "name": "python3"
  },
  "language_info": {
   "codemirror_mode": {
    "name": "ipython",
    "version": 3
   },
   "file_extension": ".py",
   "mimetype": "text/x-python",
   "name": "python",
   "nbconvert_exporter": "python",
   "pygments_lexer": "ipython3",
   "version": "3.12.4"
  }
 },
 "nbformat": 4,
 "nbformat_minor": 2
}
